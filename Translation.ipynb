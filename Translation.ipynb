{
 "cells": [
  {
   "cell_type": "code",
   "execution_count": 5,
   "id": "3a29b5ee-f29f-48a5-b747-9fcd794668db",
   "metadata": {},
   "outputs": [],
   "source": [
    "# Importing necessary libraries\n",
    "from transformers import MarianMTModel, MarianTokenizer  # For loading the translation model\n"
   ]
  },
  {
   "cell_type": "markdown",
   "id": "7baf17d2-4629-477f-b345-82824f10a0b3",
   "metadata": {},
   "source": [
    "Function for translating English to French"
   ]
  },
  {
   "cell_type": "code",
   "execution_count": 13,
   "id": "ef3e6ed9-139b-4aac-b6fe-4fcde4083af7",
   "metadata": {},
   "outputs": [],
   "source": [
    "def translate_text(text, src_lang, tgt_lang):\n",
    "    model_name = f\"Helsinki-NLP/opus-mt-{src_lang}-{tgt_lang}\"\n",
    "    tokenizer = MarianTokenizer.from_pretrained(model_name)\n",
    "    model = MarianMTModel.from_pretrained(model_name)\n",
    "\n",
    "    # Tokenize and generate translation\n",
    "    inputs = tokenizer(text, return_tensors=\"pt\", padding=True, truncation=True)\n",
    "    translated = model.generate(**inputs)\n",
    "    return tokenizer.decode(translated[0], skip_special_tokens=True)"
   ]
  },
  {
   "cell_type": "code",
   "execution_count": 15,
   "id": "22b66c55-3d82-4023-808b-7a2ffd19a790",
   "metadata": {},
   "outputs": [
    {
     "data": {
      "application/vnd.jupyter.widget-view+json": {
       "model_id": "d2cc54ef7e744c889d898da16f2f47f8",
       "version_major": 2,
       "version_minor": 0
      },
      "text/plain": [
       "tokenizer_config.json:   0%|          | 0.00/42.0 [00:00<?, ?B/s]"
      ]
     },
     "metadata": {},
     "output_type": "display_data"
    },
    {
     "name": "stderr",
     "output_type": "stream",
     "text": [
      "C:\\Users\\admin\\anaconda3\\Lib\\site-packages\\huggingface_hub\\file_download.py:140: UserWarning: `huggingface_hub` cache-system uses symlinks by default to efficiently store duplicated files but your machine does not support them in C:\\Users\\admin\\.cache\\huggingface\\hub\\models--Helsinki-NLP--opus-mt-en-fr. Caching files will still work but in a degraded version that might require more space on your disk. This warning can be disabled by setting the `HF_HUB_DISABLE_SYMLINKS_WARNING` environment variable. For more details, see https://huggingface.co/docs/huggingface_hub/how-to-cache#limitations.\n",
      "To support symlinks on Windows, you either need to activate Developer Mode or to run Python as an administrator. In order to activate developer mode, see this article: https://docs.microsoft.com/en-us/windows/apps/get-started/enable-your-device-for-development\n",
      "  warnings.warn(message)\n"
     ]
    },
    {
     "data": {
      "application/vnd.jupyter.widget-view+json": {
       "model_id": "35a2c321811b48c296981679667f7212",
       "version_major": 2,
       "version_minor": 0
      },
      "text/plain": [
       "source.spm:   0%|          | 0.00/778k [00:00<?, ?B/s]"
      ]
     },
     "metadata": {},
     "output_type": "display_data"
    },
    {
     "data": {
      "application/vnd.jupyter.widget-view+json": {
       "model_id": "c3ef9d3099694995b0172ecbfdf54a2e",
       "version_major": 2,
       "version_minor": 0
      },
      "text/plain": [
       "target.spm:   0%|          | 0.00/802k [00:00<?, ?B/s]"
      ]
     },
     "metadata": {},
     "output_type": "display_data"
    },
    {
     "data": {
      "application/vnd.jupyter.widget-view+json": {
       "model_id": "9a1895d20e694bf2a48b16ab2e785512",
       "version_major": 2,
       "version_minor": 0
      },
      "text/plain": [
       "vocab.json:   0%|          | 0.00/1.34M [00:00<?, ?B/s]"
      ]
     },
     "metadata": {},
     "output_type": "display_data"
    },
    {
     "data": {
      "application/vnd.jupyter.widget-view+json": {
       "model_id": "678812855a9d4d78ad6b64cd40ac5461",
       "version_major": 2,
       "version_minor": 0
      },
      "text/plain": [
       "config.json:   0%|          | 0.00/1.42k [00:00<?, ?B/s]"
      ]
     },
     "metadata": {},
     "output_type": "display_data"
    },
    {
     "name": "stderr",
     "output_type": "stream",
     "text": [
      "C:\\Users\\admin\\anaconda3\\Lib\\site-packages\\transformers\\models\\marian\\tokenization_marian.py:175: UserWarning: Recommended: pip install sacremoses.\n",
      "  warnings.warn(\"Recommended: pip install sacremoses.\")\n"
     ]
    },
    {
     "data": {
      "application/vnd.jupyter.widget-view+json": {
       "model_id": "befab75dde874ca9bba0ef263f3aab3d",
       "version_major": 2,
       "version_minor": 0
      },
      "text/plain": [
       "pytorch_model.bin:   0%|          | 0.00/301M [00:00<?, ?B/s]"
      ]
     },
     "metadata": {},
     "output_type": "display_data"
    },
    {
     "data": {
      "application/vnd.jupyter.widget-view+json": {
       "model_id": "20cf193c3ba4499cb4e001cc36424f41",
       "version_major": 2,
       "version_minor": 0
      },
      "text/plain": [
       "generation_config.json:   0%|          | 0.00/293 [00:00<?, ?B/s]"
      ]
     },
     "metadata": {},
     "output_type": "display_data"
    },
    {
     "data": {
      "application/vnd.jupyter.widget-view+json": {
       "model_id": "06370939fd2b47d084d32cce7afe7d18",
       "version_major": 2,
       "version_minor": 0
      },
      "text/plain": [
       "model.safetensors:   0%|          | 0.00/301M [00:00<?, ?B/s]"
      ]
     },
     "metadata": {},
     "output_type": "display_data"
    },
    {
     "name": "stdout",
     "output_type": "stream",
     "text": [
      "Original Text: Hello, how are you?\n",
      "Translated Text: Bonjour, comment allez-vous ?\n"
     ]
    }
   ],
   "source": [
    "# Example: Translating English to French\n",
    "text = \"Hello, how are you?\"\n",
    "src_lang = \"en\"  # Source language code\n",
    "tgt_lang = \"fr\"  # Target language code\n",
    "\n",
    "\n",
    "translated_text = translate_text(text, src_lang, tgt_lang)\n",
    "\n",
    "print(f\"Original Text: {text}\")\n",
    "print(f\"Translated Text: {translated_text}\")\n"
   ]
  },
  {
   "cell_type": "code",
   "execution_count": null,
   "id": "0d27a68b-a52b-4748-a684-d6f55ace01a8",
   "metadata": {},
   "outputs": [],
   "source": []
  },
  {
   "cell_type": "markdown",
   "id": "f4b13590-2b65-41a2-9068-fc0b5e6448d9",
   "metadata": {},
   "source": [
    "Modified Function for Multiple Languages"
   ]
  },
  {
   "cell_type": "code",
   "execution_count": 24,
   "id": "88858c24-f694-4c80-86a7-ee7037fa1906",
   "metadata": {},
   "outputs": [
    {
     "name": "stdout",
     "output_type": "stream",
     "text": [
      "French: Bonjour, quel est votre nom ?\n",
      "German: Hallo, wie heißt du?\n",
      "Spanish: Hola, ¿cómo te llamas?\n"
     ]
    }
   ],
   "source": [
    "def translate_text_multilang(text, src_lang, tgt_lang):\n",
    "    \n",
    "    supported_targets = ['fr', 'de', 'es']  # we can add more languages as needed\n",
    "\n",
    "    if tgt_lang not in supported_targets:\n",
    "        raise ValueError(f\"Target language '{tgt_lang}' is not supported. Supported: {supported_targets}\")\n",
    "\n",
    "  \n",
    "    model_name = f\"Helsinki-NLP/opus-mt-{src_lang}-{tgt_lang}\"\n",
    "    \n",
    "    # Loading the tokenizer and model\n",
    "    tokenizer = MarianTokenizer.from_pretrained(model_name)\n",
    "    model = MarianMTModel.from_pretrained(model_name)\n",
    "    \n",
    "    # Tokenizing and generating translation\n",
    "    inputs = tokenizer(text, return_tensors=\"pt\", padding=True, truncation=True)\n",
    "    translated = model.generate(**inputs)\n",
    "    \n",
    "    # Decoding the output\n",
    "    return tokenizer.decode(translated[0], skip_special_tokens=True)\n",
    "\n",
    "# Example usage:\n",
    "text = \"Hello, what is your name?\"\n",
    "\n",
    "# English to French\n",
    "print(\"French:\", translate_text_multilang(text, src_lang=\"en\", tgt_lang=\"fr\"))\n",
    "\n",
    "# English to German\n",
    "print(\"German:\", translate_text_multilang(text, src_lang=\"en\", tgt_lang=\"de\"))\n",
    "\n",
    "# English to Spanish\n",
    "print(\"Spanish:\", translate_text_multilang(text, src_lang=\"en\", tgt_lang=\"es\"))"
   ]
  },
  {
   "cell_type": "code",
   "execution_count": null,
   "id": "e0c8b3a8-adeb-4cba-80b7-ddeb1701fe9a",
   "metadata": {},
   "outputs": [],
   "source": []
  },
  {
   "cell_type": "code",
   "execution_count": null,
   "id": "16e00486-b169-46cf-a49d-fc5a68e808ca",
   "metadata": {},
   "outputs": [],
   "source": []
  },
  {
   "cell_type": "code",
   "execution_count": null,
   "id": "98132809-f53c-4a12-b586-44d8e7eab407",
   "metadata": {},
   "outputs": [],
   "source": []
  }
 ],
 "metadata": {
  "kernelspec": {
   "display_name": "Python 3 (ipykernel)",
   "language": "python",
   "name": "python3"
  },
  "language_info": {
   "codemirror_mode": {
    "name": "ipython",
    "version": 3
   },
   "file_extension": ".py",
   "mimetype": "text/x-python",
   "name": "python",
   "nbconvert_exporter": "python",
   "pygments_lexer": "ipython3",
   "version": "3.11.7"
  }
 },
 "nbformat": 4,
 "nbformat_minor": 5
}
